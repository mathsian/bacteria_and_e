{
 "cells": [
  {
   "cell_type": "markdown",
   "metadata": {
    "deletable": true,
    "editable": true,
    "slideshow": {
     "slide_type": "slide"
    }
   },
   "source": [
    "# Bacteria and an important number"
   ]
  },
  {
   "cell_type": "markdown",
   "metadata": {
    "deletable": true,
    "editable": true,
    "slideshow": {
     "slide_type": "subslide"
    }
   },
   "source": [
    "Imagine a population of bacteria, perhaps a million of them, each of which duplicates itself once per day.\n",
    "\n",
    "We might expect the population of bacteria at the end of one day to be two million.\n",
    "\n",
    "> Why is this not a realistic model? Does it overestimate or underestimate the number of bacteria after a day?"
   ]
  },
  {
   "cell_type": "markdown",
   "metadata": {
    "deletable": true,
    "editable": true,
    "slideshow": {
     "slide_type": "subslide"
    }
   },
   "source": [
    "If all the bacteria waited one day to reproduce themselves, then two million would be right. But many of the bacteria will duplicate before that, and both they and the new bacteria will still be around for the rest of the day to possibly reproduce again."
   ]
  },
  {
   "cell_type": "markdown",
   "metadata": {
    "deletable": true,
    "editable": true,
    "slideshow": {
     "slide_type": "subslide"
    }
   },
   "source": [
    "A slightly improved model would be: half of the population reproduces every half day.\n",
    "\n",
    "> How many bacteria will there be at the end of the day according to this new model?"
   ]
  },
  {
   "cell_type": "markdown",
   "metadata": {
    "deletable": true,
    "editable": true,
    "slideshow": {
     "slide_type": "fragment"
    }
   },
   "source": [
    "At lunchtime, there would be 1.5 million bacteria - the original million, and half a million baby bacteria. At midnight, there would be those 1.5 million and half again, or 2.25 million."
   ]
  },
  {
   "cell_type": "markdown",
   "metadata": {
    "deletable": true,
    "editable": true,
    "slideshow": {
     "slide_type": "subslide"
    }
   },
   "source": [
    "In other words, $$\\text{final population}=\\text{starting population}\\times 1\\frac{1}{2} \\times 1\\frac{1}{2}$$"
   ]
  },
  {
   "cell_type": "markdown",
   "metadata": {
    "deletable": true,
    "editable": true,
    "slideshow": {
     "slide_type": "subslide"
    }
   },
   "source": [
    "We could improve our model even further if we let a third of our bacteria reproduce every third of a day."
   ]
  },
  {
   "cell_type": "markdown",
   "metadata": {
    "deletable": true,
    "editable": true,
    "slideshow": {
     "slide_type": "fragment"
    }
   },
   "source": [
    "Then,\n",
    "\n",
    "$$\\begin{aligned}\n",
    "\\text{final population}&=\\text{starting population}\\times 1\\frac{1}{3} \\times 1\\frac{1}{3}\\times 1\\frac{1}{3}\\\\\n",
    "&=1\\text{ million }\\times\\left(1+\\frac{1}{3}\\right)^3\\\\\n",
    "&=2.37\\text{ million}\n",
    "\\end{aligned}$$"
   ]
  },
  {
   "cell_type": "markdown",
   "metadata": {
    "deletable": true,
    "editable": true,
    "slideshow": {
     "slide_type": "subslide"
    }
   },
   "source": [
    "> How could we make this model even more accurate?"
   ]
  },
  {
   "cell_type": "markdown",
   "metadata": {
    "deletable": true,
    "editable": true,
    "slideshow": {
     "slide_type": "subslide"
    }
   },
   "source": [
    "If our bacteria reproduce about once a day, then one in twenty-four of them should reproduce in the first hour. Then one in twenty-four of that new population will reproduce in the second hour, and so on.\n",
    "\n",
    "> How many bacteria will there be at the end of the day according to this model?"
   ]
  },
  {
   "cell_type": "markdown",
   "metadata": {
    "deletable": true,
    "editable": true,
    "slideshow": {
     "slide_type": "subslide"
    }
   },
   "source": [
    "$$\\begin{array}{lr}\n",
    "\\text{Hours}&\\text{Population (millions)}\\\\\n",
    "0&1\\\\\n",
    "1&1+\\frac{1}{24}\\\\\n",
    "2&(1+\\frac{1}{24})(1+\\frac{1}{24})\\\\\n",
    "3&(1+\\frac{1}{24})(1+\\frac{1}{24})(1+\\frac{1}{24})\\\\\n",
    "\\cdots&\\cdots\\\\\n",
    "24&(1+\\frac{1}{24})^{24}\n",
    "\\end{array}$$\n"
   ]
  },
  {
   "cell_type": "markdown",
   "metadata": {
    "deletable": true,
    "editable": true,
    "slideshow": {
     "slide_type": "subslide"
    }
   },
   "source": [
    "So\n",
    "\n",
    "$\\begin{aligned}\n",
    "\\text{final population}&=\\text{starting population}\\left(1+\\dfrac{1}{24}\\right)^{24}\\\\\n",
    "&=2.66\\text{ million}\n",
    "\\end{aligned}$"
   ]
  },
  {
   "cell_type": "markdown",
   "metadata": {
    "deletable": true,
    "editable": true,
    "slideshow": {
     "slide_type": "fragment"
    }
   },
   "source": [
    "> Write a function that takes the number of intervals and returns the number (in millions) of bacteria at the end of the day"
   ]
  },
  {
   "cell_type": "code",
   "execution_count": 106,
   "metadata": {
    "collapsed": true,
    "deletable": true,
    "editable": true,
    "slideshow": {
     "slide_type": "fragment"
    }
   },
   "outputs": [],
   "source": [
    "def bacteria(intervals):\n",
    "    return (1+1/intervals)**intervals"
   ]
  },
  {
   "cell_type": "markdown",
   "metadata": {
    "deletable": true,
    "editable": true,
    "slideshow": {
     "slide_type": "subslide"
    }
   },
   "source": [
    "Check it works..."
   ]
  },
  {
   "cell_type": "code",
   "execution_count": 92,
   "metadata": {
    "collapsed": false,
    "deletable": true,
    "editable": true,
    "slideshow": {
     "slide_type": "fragment"
    }
   },
   "outputs": [
    {
     "name": "stdout",
     "output_type": "stream",
     "text": [
      "2.0 bacteria from 1 intervals\n",
      "2.25 bacteria from 2 intervals\n",
      "2.663731258068599 bacteria from 24 intervals\n"
     ]
    }
   ],
   "source": [
    "for i in [1,2,24]:\n",
    "    print(\"{} bacteria from {} intervals\".format(bacteria(i),i))"
   ]
  },
  {
   "cell_type": "markdown",
   "metadata": {
    "deletable": true,
    "editable": true,
    "slideshow": {
     "slide_type": "subslide"
    }
   },
   "source": [
    "> Use your function to find the number of bacteria if we decrease the interval to one second"
   ]
  },
  {
   "cell_type": "code",
   "execution_count": 96,
   "metadata": {
    "collapsed": false,
    "deletable": true,
    "editable": true
   },
   "outputs": [
    {
     "data": {
      "image/png": "[encoded data removed]",
      "text/latex": [
       "$$2.7182660978200555$$"
      ],
      "text/plain": [
       "2.7182660978200555"
      ]
     },
     "execution_count": 96,
     "metadata": {},
     "output_type": "execute_result"
    }
   ],
   "source": [
    "bacteria(86400)"
   ]
  },
  {
   "cell_type": "markdown",
   "metadata": {
    "deletable": true,
    "editable": true,
    "slideshow": {
     "slide_type": "subslide"
    }
   },
   "source": [
    "If we imagined taking one second snapshots, then that's $24\\cdot60\\cdot60=86,400$ intervals and\n",
    "\n",
    "$$\\begin{aligned}\n",
    "\\text{final population}&=\\text{starting population}\\left(1+\\dfrac{1}{86,400}\\right)^{86,400}\\\\\n",
    "&=2.718\\text{ million}\n",
    "\\end{aligned}\n",
    "$$"
   ]
  },
  {
   "cell_type": "markdown",
   "metadata": {
    "deletable": true,
    "editable": true,
    "slideshow": {
     "slide_type": "subslide"
    }
   },
   "source": [
    "> Is there any reason to stop there?"
   ]
  },
  {
   "cell_type": "markdown",
   "metadata": {
    "deletable": true,
    "editable": true,
    "slideshow": {
     "slide_type": "subslide"
    }
   },
   "source": [
    "The more intervals we use, the closer we get to a model in which bacteria growth is *continuous* rather than taking place in *discrete* intervals.\n",
    "\n",
    "In other words, the better our model is, the bigger the $n$ in $\\left(1+\\dfrac{1}{n}\\right)^n$"
   ]
  },
  {
   "cell_type": "markdown",
   "metadata": {
    "deletable": true,
    "editable": true,
    "slideshow": {
     "slide_type": "subslide"
    }
   },
   "source": [
    "> What do you notice about the number of bacteria as the number of intervals increases?"
   ]
  },
  {
   "cell_type": "markdown",
   "metadata": {
    "deletable": true,
    "editable": true,
    "slideshow": {
     "slide_type": "subslide"
    }
   },
   "source": [
    "For a model of continuous growth, we'd need that $n$ to get infinitely big, so the intervals get infinitely small, written\n",
    "\n",
    "$$\\lim_{n\\to\\infty}\\left(1+\\dfrac{1}{n}\\right)^n$$"
   ]
  },
  {
   "cell_type": "markdown",
   "metadata": {
    "deletable": true,
    "editable": true,
    "slideshow": {
     "slide_type": "subslide"
    }
   },
   "source": [
    "This number, roughly $2.718$, is important enough to get its own letter, $e$, and its own [wikipedia page](https://en.wikipedia.org/wiki/E_(mathematical_constant%29).\n",
    "\n"
   ]
  },
  {
   "cell_type": "markdown",
   "metadata": {
    "deletable": true,
    "editable": true,
    "slideshow": {
     "slide_type": "subslide"
    }
   },
   "source": [
    "You might have noticed that if you put a large enough $n$ in you get an answer that is *not* $2.718$.\n",
    "\n",
    "> Why do you think that is?"
   ]
  },
  {
   "cell_type": "markdown",
   "metadata": {
    "deletable": true,
    "editable": true,
    "slideshow": {
     "slide_type": "subslide"
    }
   },
   "source": [
    "Luckily `sympy` has much higher precision arithmetic, and a `limit` function, so let's use that."
   ]
  },
  {
   "cell_type": "code",
   "execution_count": 107,
   "metadata": {
    "collapsed": true,
    "deletable": true,
    "editable": true,
    "slideshow": {
     "slide_type": "subslide"
    }
   },
   "outputs": [],
   "source": [
    "from sympy import *\n",
    "n = Symbol('n')\n",
    "init_printing()"
   ]
  },
  {
   "cell_type": "code",
   "execution_count": 113,
   "metadata": {
    "collapsed": false,
    "deletable": true,
    "editable": true,
    "slideshow": {
     "slide_type": "fragment"
    }
   },
   "outputs": [
    {
     "data": {
      "image/png": "[encoded data removed]",
      "text/latex": [
       "$$e$$"
      ],
      "text/plain": [
       "ℯ"
      ]
     },
     "execution_count": 113,
     "metadata": {},
     "output_type": "execute_result"
    }
   ],
   "source": [
    "limit(bacteria(n),n,oo)"
   ]
  },
  {
   "cell_type": "markdown",
   "metadata": {
    "deletable": true,
    "editable": true,
    "slideshow": {
     "slide_type": "fragment"
    }
   },
   "source": [
    "Reassuring, but what's that as a decimal"
   ]
  },
  {
   "cell_type": "code",
   "execution_count": 62,
   "metadata": {
    "collapsed": false,
    "deletable": true,
    "editable": true,
    "slideshow": {
     "slide_type": "-"
    }
   },
   "outputs": [
    {
     "data": {
      "image/png": "[encoded data removed]",
      "text/latex": [
       "$$2.71828182845905$$"
      ],
      "text/plain": [
       "2.71828182845905"
      ]
     },
     "execution_count": 62,
     "metadata": {},
     "output_type": "execute_result"
    }
   ],
   "source": [
    "N(limit(bacteria(x),x,oo))"
   ]
  },
  {
   "cell_type": "markdown",
   "metadata": {
    "deletable": true,
    "editable": true,
    "slideshow": {
     "slide_type": "slide"
    }
   },
   "source": [
    "## Exponential functions"
   ]
  },
  {
   "cell_type": "markdown",
   "metadata": {
    "deletable": true,
    "editable": true,
    "slideshow": {
     "slide_type": "fragment"
    }
   },
   "source": [
    "Recall that functions like $y=2^x$ or $y=5^x$ are called *exponential* functions.\n",
    "\n",
    "> Check that $f:x\\longmapsto 2^x\\,\\{x\\in\\mathbb{R}\\}$ really is a function. What is its range?"
   ]
  },
  {
   "cell_type": "markdown",
   "metadata": {
    "deletable": true,
    "editable": true,
    "slideshow": {
     "slide_type": "subslide"
    }
   },
   "source": [
    "> Use [desmos](http://desmos.com) to explore functions of the form $y=a^x$ for various $a$. Make a note of anything interesting."
   ]
  },
  {
   "cell_type": "markdown",
   "metadata": {
    "deletable": true,
    "editable": true,
    "slideshow": {
     "slide_type": "slide"
    }
   },
   "source": [
    "## Differentiating exponential functions\n",
    "\n",
    "> What do you remember about differentiation?"
   ]
  },
  {
   "cell_type": "markdown",
   "metadata": {
    "deletable": true,
    "editable": true,
    "slideshow": {
     "slide_type": "subslide"
    }
   },
   "source": [
    "Recall the definition of the derivative of $f(x)$:\n",
    "\n",
    "$$f'(x)=\\lim_{h\\to 0}\\dfrac{\\overbrace{f(x+h)-f(x)}^\\text{change in y}}{\\underbrace{h}_\\text{change in x}}$$\n",
    "\n",
    "> What if $f(x)=2^x$?"
   ]
  },
  {
   "cell_type": "code",
   "execution_count": 70,
   "metadata": {
    "collapsed": true,
    "deletable": true,
    "editable": true,
    "hide_input": true,
    "slideshow": {
     "slide_type": "skip"
    }
   },
   "outputs": [],
   "source": [
    "# Imports for the upcoming graph\n",
    "import matplotlib.pyplot as plt\n",
    "import numpy as np\n",
    "%matplotlib inline\n",
    "plt.style.use('ggplot')"
   ]
  },
  {
   "cell_type": "code",
   "execution_count": 89,
   "metadata": {
    "collapsed": false,
    "deletable": true,
    "editable": true,
    "hide_input": true,
    "scrolled": false,
    "slideshow": {
     "slide_type": "subslide"
    }
   },
   "outputs": [
    {
     "data": {
      "image/png": "[encoded data removed]",
      "text/plain": [
       "<matplotlib.figure.Figure at 0x7fe54cb76d30>"
      ]
     },
     "metadata": {},
     "output_type": "display_data"
    }
   ],
   "source": [
    "xs = np.linspace(-2,5)\n",
    "ys = 2**xs\n",
    "plt.plot(xs,ys)\n",
    "plt.hlines(4,xmin=2,xmax=4)\n",
    "plt.vlines(4,ymin=4,ymax=16)\n",
    "plt.annotate(\"$h$\",xy=(3,4),fontsize=14)\n",
    "plt.annotate(\"$2^{x+h}$\",xy=(4,16),fontsize=14)\n",
    "plt.annotate(\"$2^{x}$\",xy=(4,4),fontsize=14);"
   ]
  },
  {
   "cell_type": "markdown",
   "metadata": {
    "deletable": true,
    "editable": true,
    "slideshow": {
     "slide_type": "subslide"
    }
   },
   "source": [
    "\n",
    "$\\dfrac{\\text{d}}{\\text{d}x}2^x=\\lim_{h\\to 0}\\dfrac{2^{x+h}-2^x}{h}$\n"
   ]
  },
  {
   "cell_type": "markdown",
   "metadata": {
    "deletable": true,
    "editable": true,
    "slideshow": {
     "slide_type": "fragment"
    }
   },
   "source": [
    "$\\begin{aligned}\n",
    "&=\\dfrac{2^x2^h-2^x}{h}\\\\\n",
    "&=\\dfrac{2^x(2^h-1)}{h}\\\\\n",
    "&=2^x\\dfrac{2^h-1}{h}\\text{ as }h\\to 0\n",
    "\\end{aligned}$"
   ]
  },
  {
   "cell_type": "markdown",
   "metadata": {
    "deletable": true,
    "editable": true,
    "slideshow": {
     "slide_type": "subslide"
    }
   },
   "source": [
    "So the derivative of $2^x$ is $2^x$ times some number.\n",
    "\n",
    "> Use the `limit` function again to find $\\lim_{h\\to 0}\\dfrac{2^h-1}{h}$.\n"
   ]
  },
  {
   "cell_type": "code",
   "execution_count": 97,
   "metadata": {
    "collapsed": false,
    "deletable": true,
    "editable": true,
    "slideshow": {
     "slide_type": "subslide"
    }
   },
   "outputs": [
    {
     "data": {
      "image/png": "[encoded data removed]",
      "text/latex": [
       "$$\\log{\\left (2 \\right )}$$"
      ],
      "text/plain": [
       "log(2)"
      ]
     },
     "execution_count": 97,
     "metadata": {},
     "output_type": "execute_result"
    }
   ],
   "source": [
    "h = Symbol('h')\n",
    "limit((2**h-1)/h,h,0)"
   ]
  },
  {
   "cell_type": "code",
   "execution_count": 98,
   "metadata": {
    "collapsed": false,
    "deletable": true,
    "editable": true,
    "slideshow": {
     "slide_type": "subslide"
    }
   },
   "outputs": [
    {
     "data": {
      "image/png": "[encoded data removed]",
      "text/latex": [
       "$$0.693147180559945$$"
      ],
      "text/plain": [
       "0.693147180559945"
      ]
     },
     "execution_count": 98,
     "metadata": {},
     "output_type": "execute_result"
    }
   ],
   "source": [
    "N(limit((2**h-1)/h,h,0))"
   ]
  },
  {
   "cell_type": "markdown",
   "metadata": {
    "deletable": true,
    "editable": true,
    "slideshow": {
     "slide_type": "subslide"
    }
   },
   "source": [
    "In other words the gradient of $2^x$ is just slightly less than $2^x$\n",
    "\n",
    "> Confirm this in [desmos](http://desmos.com) by plotting $f(x)=2^x$ and $y=f'(x)$"
   ]
  },
  {
   "cell_type": "markdown",
   "metadata": {
    "deletable": true,
    "editable": true,
    "slideshow": {
     "slide_type": "subslide"
    }
   },
   "source": [
    "> How does $3^x$ compare to the derivative of $3^x$? (You can use [desmos](http://desmos.com) or try the limit function with $2$ instead of $3$)"
   ]
  },
  {
   "cell_type": "code",
   "execution_count": 111,
   "metadata": {
    "collapsed": false,
    "deletable": true,
    "editable": true,
    "slideshow": {
     "slide_type": "subslide"
    }
   },
   "outputs": [
    {
     "data": {
      "image/png": "[encoded data removed]",
      "text/latex": [
       "$$1.09861228866811$$"
      ],
      "text/plain": [
       "1.09861228866811"
      ]
     },
     "execution_count": 111,
     "metadata": {},
     "output_type": "execute_result"
    }
   ],
   "source": [
    "N(limit((3**h-1)/h,h,0))"
   ]
  },
  {
   "cell_type": "markdown",
   "metadata": {
    "deletable": true,
    "editable": true,
    "slideshow": {
     "slide_type": "subslide"
    }
   },
   "source": [
    "The gradient of $3^x$ is very slightly *more* than $3^x$"
   ]
  },
  {
   "cell_type": "markdown",
   "metadata": {
    "deletable": true,
    "editable": true,
    "slideshow": {
     "slide_type": "subslide"
    }
   },
   "source": [
    "Somewhere between $2$ and $3$ is a number for which the gradient of $a^x$ is just $a^x$\n",
    "\n",
    "> Use a slider in desmos, or trial and improvement in the limit function to find that number"
   ]
  },
  {
   "cell_type": "code",
   "execution_count": 112,
   "metadata": {
    "collapsed": false,
    "deletable": true,
    "editable": true,
    "slideshow": {
     "slide_type": "subslide"
    }
   },
   "outputs": [
    {
     "data": {
      "image/png": "[encoded data removed]",
      "text/latex": [
       "$$0.99996989653911$$"
      ],
      "text/plain": [
       "0.999969896539110"
      ]
     },
     "execution_count": 112,
     "metadata": {},
     "output_type": "execute_result"
    }
   ],
   "source": [
    "N(limit((2.7182**h-1)/h,h,0))"
   ]
  },
  {
   "cell_type": "markdown",
   "metadata": {
    "deletable": true,
    "editable": true,
    "slideshow": {
     "slide_type": "subslide"
    }
   },
   "source": [
    "In other words, $e$ has this unique property:\n",
    "\n",
    "**the derivative of $e^x$ is $e^x$**"
   ]
  },
  {
   "cell_type": "markdown",
   "metadata": {
    "deletable": true,
    "editable": true,
    "slideshow": {
     "slide_type": "fragment"
    }
   },
   "source": [
    "This property, that the rate of change of this value is equal to its present value means, $e^x$ comes up all the time in models of population growth (or decay).\n",
    "\n",
    "For example, [flies and radioactivity](http://pmt.physicsandmathstutor.com/download/Maths/A-level/C3/Worksheets-Notes/Solomon/C3%20Exponentials%20and%20Logarithms%20B%20-%20Questions.pdf) (Q5 and Q1)."
   ]
  },
  {
   "cell_type": "markdown",
   "metadata": {
    "deletable": true,
    "editable": true,
    "slideshow": {
     "slide_type": "subslide"
    }
   },
   "source": [
    "But there's more..."
   ]
  },
  {
   "cell_type": "markdown",
   "metadata": {
    "deletable": true,
    "editable": true,
    "slideshow": {
     "slide_type": "slide"
    }
   },
   "source": [
    "## The logarithm to base $e$"
   ]
  },
  {
   "cell_type": "markdown",
   "metadata": {
    "deletable": true,
    "editable": true,
    "slideshow": {
     "slide_type": "subslide"
    }
   },
   "source": [
    "These two statements are equivalent\n",
    "$\\begin{aligned}\n",
    "y&=\\log_e{x}\\\\\n",
    "x&=e^y\n",
    "\\end{aligned}$"
   ]
  },
  {
   "cell_type": "markdown",
   "metadata": {
    "deletable": true,
    "editable": true,
    "slideshow": {
     "slide_type": "subslide"
    }
   },
   "source": [
    "We can differentiate with respect to $y$ for a change\n",
    "\n",
    "$\\begin{aligned}\n",
    "x&=e^y\\\\\n",
    "\\dfrac{\\text{d}x}{\\text{d}y}&=e^y\\\\\n",
    "\\end{aligned}$"
   ]
  },
  {
   "cell_type": "markdown",
   "metadata": {
    "deletable": true,
    "editable": true,
    "slideshow": {
     "slide_type": "subslide"
    }
   },
   "source": [
    "But that means\n",
    "\n",
    "$\\dfrac{\\text{d}x}{\\text{d}y}=x$"
   ]
  },
  {
   "cell_type": "markdown",
   "metadata": {
    "deletable": true,
    "editable": true,
    "slideshow": {
     "slide_type": "fragment"
    }
   },
   "source": [
    "Or equivalently\n",
    "\n",
    "$\\dfrac{\\text{d}y}{\\text{d}x}=\\dfrac{1}{x}$\n"
   ]
  },
  {
   "cell_type": "markdown",
   "metadata": {
    "deletable": true,
    "editable": true,
    "slideshow": {
     "slide_type": "subslide"
    }
   },
   "source": [
    "Putting that together\n",
    "\n",
    "$\\begin{aligned}\n",
    "y&=\\log_e{x}\\\\\n",
    "\\dfrac{\\text{d}y}{\\text{d}x}&=\\dfrac{1}{x}\n",
    "\\end{aligned}$\n",
    "\n",
    "The missing integral!"
   ]
  },
  {
   "cell_type": "markdown",
   "metadata": {
    "deletable": true,
    "editable": true,
    "slideshow": {
     "slide_type": "subslide"
    }
   },
   "source": [
    "The logarithm to base $e$ is important enough to get its own notation, written $\\ln{x}$."
   ]
  }
 ],
 "metadata": {
  "celltoolbar": "Slideshow",
  "kernelspec": {
   "display_name": "Python 3",
   "language": "python",
   "name": "python3"
  },
  "language_info": {
   "codemirror_mode": {
    "name": "ipython",
    "version": 3
   },
   "file_extension": ".py",
   "mimetype": "text/x-python",
   "name": "python",
   "nbconvert_exporter": "python",
   "pygments_lexer": "ipython3",
   "version": "3.5.2"
  },
  "nikola": {
   "category": "",
   "date": "2017-02-03 14:06:59 UTC",
   "description": "",
   "link": "",
   "slug": "bacteria-and-e",
   "tags": "draft",
   "title": "Bacteria and e",
   "type": "text"
  }
 },
 "nbformat": 4,
 "nbformat_minor": 2
}
